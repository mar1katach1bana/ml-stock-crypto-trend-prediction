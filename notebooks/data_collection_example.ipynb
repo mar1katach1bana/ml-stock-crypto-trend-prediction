{
 "cells": [
  {
   "cell_type": "markdown",
   "metadata": {},
   "source": [
    "# Data Collection Example\n",
    "\n",
    "This notebook demonstrates how to use the data collectors to fetch historical price data from different sources."
   ]
  },
  {
   "cell_type": "code",
   "execution_count": null,
   "metadata": {},
   "source": [
    "import sys\n",
    "sys.path.append('..')\n",
    "\n",
    "from data.collectors.yahoo_finance import YahooDataCollector\n",
    "from data.collectors.binance_api import BinanceDataCollector\n",
    "import matplotlib.pyplot as plt\n",
    "import seaborn as sns\n",
    "\n",
    "# Set plotting style\n",
    "plt.style.use('seaborn')\n",
    "sns.set_palette('husl')"
   ]
  },
  {
   "cell_type": "markdown",
   "metadata": {},
   "source": [
    "## 1. Fetching Stock Data from Yahoo Finance"
   ]
  },
  {
   "cell_type": "code",
   "execution_count": null,
   "metadata": {},
   "source": [
    "# Initialize Yahoo Finance collector\n",
    "yahoo_collector = YahooDataCollector()\n",
    "\n",
    "# Fetch Apple stock data for the last year\n",
    "aapl_data = yahoo_collector.fetch_data('AAPL')\n",
    "\n",
    "# Display the first few rows\n",
    "print(\"AAPL Data Shape:\", aapl_data.shape)\n",
    "aapl_data.head()"
   ]
  },
  {
   "cell_type": "code",
   "execution_count": null,
   "metadata": {},
   "source": [
    "# Plot AAPL stock price\n",
    "plt.figure(figsize=(15, 7))\n",
    "plt.plot(aapl_data.index, aapl_data['close'], label='Close Price')\n",
    "plt.title('AAPL Stock Price')\n",
    "plt.xlabel('Date')\n",
    "plt.ylabel('Price (USD)')\n",
    "plt.legend()\n",
    "plt.grid(True)\n",
    "plt.show()"
   ]
  },
  {
   "cell_type": "markdown",
   "metadata": {},
   "source": [
    "## 2. Fetching Cryptocurrency Data from Binance"
   ]
  },
  {
   "cell_type": "code",
   "execution_count": null,
   "metadata": {},
   "source": [
    "# Initialize Binance collector\n",
    "binance_collector = BinanceDataCollector()\n",
    "\n",
    "# Fetch Bitcoin data\n",
    "btc_data = binance_collector.fetch_data('BTCUSDT')\n",
    "\n",
    "# Display the first few rows\n",
    "print(\"BTC Data Shape:\", btc_data.shape)\n",
    "btc_data.head()"
   ]
  },
  {
   "cell_type": "code",
   "execution_count": null,
   "metadata": {},
   "source": [
    "# Plot BTC price\n",
    "plt.figure(figsize=(15, 7))\n",
    "plt.plot(btc_data.index, btc_data['close'], label='Close Price')\n",
    "plt.title('BTC/USDT Price')\n",
    "plt.xlabel('Date')\n",
    "plt.ylabel('Price (USDT)')\n",
    "plt.legend()\n",
    "plt.grid(True)\n",
    "plt.show()"
   ]
  },
  {
   "cell_type": "markdown",
   "metadata": {},
   "source": [
    "## 3. Comparing Different Time Intervals"
   ]
  },
  {
   "cell_type": "code",
   "execution_count": null,
   "metadata": {},
   "source": [
    "# Fetch data with different intervals\n",
    "eth_1h = binance_collector.fetch_data('ETHUSDT', interval='1h')\n",
    "eth_4h = binance_collector.fetch_data('ETHUSDT', interval='4h')\n",
    "eth_1d = binance_collector.fetch_data('ETHUSDT', interval='1d')\n",
    "\n",
    "# Plot comparison\n",
    "plt.figure(figsize=(15, 10))\n",
    "\n",
    "plt.subplot(3, 1, 1)\n",
    "plt.plot(eth_1h.index, eth_1h['close'])\n",
    "plt.title('ETH/USDT - 1 Hour Intervals')\n",
    "plt.grid(True)\n",
    "\n",
    "plt.subplot(3, 1, 2)\n",
    "plt.plot(eth_4h.index, eth_4h['close'])\n",
    "plt.title('ETH/USDT - 4 Hour Intervals')\n",
    "plt.grid(True)\n",
    "\n",
    "plt.subplot(3, 1, 3)\n",
    "plt.plot(eth_1d.index, eth_1d['close'])\n",
    "plt.title('ETH/USDT - Daily Intervals')\n",
    "plt.grid(True)\n",
    "\n",
    "plt.tight_layout()\n",
    "plt.show()"
   ]
  }
 ],
 "metadata": {
  "kernelspec": {
   "display_name": "Python 3",
   "language": "python",
   "name": "python3"
  },
  "language_info": {
   "codemirror_mode": {
    "name": "ipython",
    "version": 3
   },
   "file_extension": ".py",
   "mimetype": "text/x-python",
   "name": "python",
   "nbconvert_exporter": "python",
   "pygments_lexer": "ipython3",
   "version": "3.8.0"
  }
 },
 "nbformat": 4,
 "nbformat_minor": 4
}
